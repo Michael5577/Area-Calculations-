{
  "nbformat": 4,
  "nbformat_minor": 0,
  "metadata": {
    "colab": {
      "provenance": [],
      "authorship_tag": "ABX9TyP8gVajTcTcFSeF4z/FC4BZ",
      "include_colab_link": true
    },
    "kernelspec": {
      "name": "python3",
      "display_name": "Python 3"
    },
    "language_info": {
      "name": "python"
    }
  },
  "cells": [
    {
      "cell_type": "markdown",
      "metadata": {
        "id": "view-in-github",
        "colab_type": "text"
      },
      "source": [
        "<a href=\"https://colab.research.google.com/github/Michael5577/Area-Calculations-/blob/main/UNIT_5_A_Problemsipynb.ipynb\" target=\"_parent\"><img src=\"https://colab.research.google.com/assets/colab-badge.svg\" alt=\"Open In Colab\"/></a>"
      ]
    },
    {
      "cell_type": "code",
      "execution_count": null,
      "metadata": {
        "colab": {
          "base_uri": "https://localhost:8080/"
        },
        "id": "kWZE1q-Yjm6S",
        "outputId": "c85d2e0d-c654-47a2-e429-699958d7ddb6"
      },
      "outputs": [
        {
          "output_type": "stream",
          "name": "stdout",
          "text": [
            "['Charmander', 'Charmeleon', 'Charizard']\n",
            "['Charmeleon', 'Charizard']\n",
            "['Charizard']\n"
          ]
        }
      ],
      "source": [
        "class Pokemon:\n",
        "    def __init__(self, name, types, evolution=None):\n",
        "        self.name = name\n",
        "        self.types = types\n",
        "        self.evolution = evolution\n",
        "\n",
        "def get_evolutionary_line(starter_pokemon):\n",
        "    evolution_line = [starter_pokemon.name]\n",
        "    current_pokemon = starter_pokemon\n",
        "\n",
        "    while current_pokemon.evolution:\n",
        "        current_pokemon = current_pokemon.evolution\n",
        "        evolution_line.append(current_pokemon.name)\n",
        "\n",
        "    return evolution_line\n",
        "\n",
        "charizard = Pokemon(\"Charizard\", [\"fire\", \"flying\"])\n",
        "charmeleon = Pokemon(\"Charmeleon\", [\"fire\"], charizard)\n",
        "charmander = Pokemon(\"Charmander\", [\"fire\"], charmeleon)\n",
        "\n",
        "charmander_list = get_evolutionary_line(charmander)\n",
        "print(charmander_list)  # ['Charmander', 'Charmeleon', 'Charizard']\n",
        "\n",
        "charmeleon_list = get_evolutionary_line(charmeleon)\n",
        "print(charmeleon_list)  # ['Charmeleon', 'Charizard']\n",
        "\n",
        "charizard_list = get_evolutionary_line(charizard)\n",
        "print(charizard_list)  # ['Charizard']\n"
      ]
    },
    {
      "cell_type": "code",
      "source": [
        "class Node:\n",
        "    def __init__(self, value, next=None):\n",
        "        self.value = value\n",
        "        self.next = next\n",
        "\n",
        "\n",
        "\n",
        "node_one = Node('a')\n",
        "node_two = Node('b')\n",
        "# Link the nodes\n",
        "node_one.next = node_two\n",
        "\n",
        "print(node_one.value)\n",
        "print(node_one.next)\n",
        "print(node_two.value)\n",
        "print(node_two.next)\n",
        "\n",
        "\n",
        "print(node_one.value)\n",
        "print(node_one.next.value) # This will now work\n",
        "print(node_two.value)\n",
        "print(node_two.next) # This will still be None"
      ],
      "metadata": {
        "colab": {
          "base_uri": "https://localhost:8080/"
        },
        "id": "qXjcqO_XmejD",
        "outputId": "9d7807a2-0ef6-459a-ab12-23b5f19d6a84"
      },
      "execution_count": null,
      "outputs": [
        {
          "output_type": "stream",
          "name": "stdout",
          "text": [
            "a\n",
            "<__main__.Node object at 0x7c0ab41af550>\n",
            "b\n",
            "None\n",
            "a\n",
            "b\n",
            "b\n",
            "None\n"
          ]
        }
      ]
    }
  ]
}